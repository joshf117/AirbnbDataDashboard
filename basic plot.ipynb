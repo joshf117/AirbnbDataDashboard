{
 "cells": [
  {
   "cell_type": "code",
   "execution_count": 3,
   "id": "c8e72f82",
   "metadata": {},
   "outputs": [],
   "source": [
    "import pandas as pd\n",
    "import plotly.express as px\n",
    "import plotly.graph_objects as go"
   ]
  },
  {
   "cell_type": "code",
   "execution_count": 2,
   "id": "2435af38",
   "metadata": {},
   "outputs": [],
   "source": [
    "df = pd.read_csv('df_sub.csv')"
   ]
  },
  {
   "cell_type": "code",
   "execution_count": null,
   "id": "32aed199",
   "metadata": {},
   "outputs": [],
   "source": [
    "fig = px.scatter(df,x=df['bed'])"
   ]
  }
 ],
 "metadata": {
  "kernelspec": {
   "display_name": "Python 3.8.8 64-bit ('base': conda)",
   "language": "python",
   "name": "python388jvsc74a57bd0b75e249e69e4215cf9a5a2ffe508258e95751d4faf7beb0ecc9dfc6d5e38827b"
  },
  "language_info": {
   "codemirror_mode": {
    "name": "ipython",
    "version": 3
   },
   "file_extension": ".py",
   "mimetype": "text/x-python",
   "name": "python",
   "nbconvert_exporter": "python",
   "pygments_lexer": "ipython3",
   "version": "3.8.8"
  }
 },
 "nbformat": 4,
 "nbformat_minor": 5
}
